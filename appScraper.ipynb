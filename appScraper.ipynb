{
 "cells": [
  {
   "cell_type": "code",
   "execution_count": 1,
   "metadata": {},
   "outputs": [],
   "source": [
    "from bs4 import BeautifulSoup\n",
    "import requests\n",
    "import json\n",
    "from datetime import date, datetime\n",
    "import pandas as pd\n",
    "import sqlite3\n",
    "from appURL import appURLs"
   ]
  },
  {
   "cell_type": "code",
   "execution_count": 14,
   "metadata": {},
   "outputs": [
    {
     "name": "stdout",
     "output_type": "stream",
     "text": [
      "{'android': 'https://play.google.com/store/apps/details?id=com.windstream.residential&hl=en_US&gl=US', 'ios': 'https://apps.apple.com/us/app/go-kinetic-by-windstream/id1342262959'}\n",
      "{'android': 'https://play.google.com/store/apps/details?id=com.altafiber.myaltafiber&hl=en_US&gl=US', 'ios': 'https://apps.apple.com/us/app/my-altafiber/id1245014739'}\n",
      "{'android': 'https://play.google.com/store/apps/details?id=com.spectrum.access&hl=en_US&gl=US', 'ios': 'https://apps.apple.com/us/app/spectrum-access-enabled-media/id1492182876'}\n",
      "{'android': 'https://play.google.com/store/apps/details?id=com.cox.android.mobileconnect&hl=en_US&gl=US', 'ios': 'https://apps.apple.com/us/app/cox-app/id415894489'}\n",
      "{'android': 'https://play.google.com/store/apps/details?id=com.vzw.hss.myverizon&hl=en_US&gl=US', 'ios': 'https://apps.apple.com/us/app/my-verizon/id416023011'}\n",
      "{'android': 'https://play.google.com/store/apps/details?id=com.mizmowireless.acctmgt&hl=en_US&gl=US', 'ios': 'https://apps.apple.com/us/app/mycricket-app/id626392754'}\n",
      "{'android': 'https://play.google.com/store/apps/details?id=com.dish.mydish&hl=en_US&gl=US', 'ios': 'https://apps.apple.com/us/app/mydish-account/id1123102087'}\n",
      "{'android': 'https://play.google.com/store/apps/details?id=com.tmobile.pr.mytmobile&hl=en_US&gl=US', 'ios': 'https://apps.apple.com/us/app/t-mobile/id561625752'}\n",
      "{'android': 'https://play.google.com/store/apps/details?id=com.xfinitymobile.myaccount&hl=en_US&gl=US', 'ios': 'https://apps.apple.com/us/app/xfinity-mobile/id1194745615'}\n",
      "{'android': 'https://play.google.com/store/apps/details?id=com.twcable.twcnews&hl=en_US&gl=US', 'ios': 'https://apps.apple.com/us/app/spectrum-news-local-stories/id740948885'}\n",
      "{'android': 'https://play.google.com/store/apps/details?id=com.brighthouse.mybhn&hl=en_US&gl=US', 'ios': 'https://apps.apple.com/us/app/my-spectrum/id942608209'}\n",
      "{'android': 'https://play.google.com/store/apps/details?id=com.sprint.care&hl=en_US&gl=US', 'ios': 'https://apps.apple.com/us/app/my-sprint-mobile/id491126018'}\n",
      "{'android': 'https://play.google.com/store/apps/details?id=com.verizon.myfios&hl=en_US&gl=US', 'ios': 'https://apps.apple.com/us/app/verizon-my-fios/id476394945'}\n",
      "{'android': 'https://play.google.com/store/apps/details?id=com.centurylink.ctl_droid_wrap&hl=en_US&gl=US', 'ios': 'https://apps.apple.com/us/app/my-centurylink/id1015059570'}\n",
      "{'android': 'https://play.google.com/store/apps/details?id=com.visiblemobile.flagship&hl=en_US&gl=US', 'ios': 'https://apps.apple.com/us/app/visible-mobile/id1367950045'}\n",
      "{'android': 'https://play.google.com/store/apps/details?id=com.charter.university&hl=en_US&gl=US', 'ios': 'https://apps.apple.com/us/app/spectrumu/id827887111'}\n",
      "{'android': 'https://play.google.com/store/apps/details?id=com.TWCableTV&hl=en_US&gl=US', 'ios': 'https://apps.apple.com/us/app/spectrum-tv/id420455839'}\n",
      "{'android': 'https://play.google.com/store/apps/details?id=com.att.myWireless&hl=en_US&gl=US', 'ios': 'https://apps.apple.com/us/app/myat-t/id309172177'}\n",
      "{'android': 'https://play.google.com/store/apps/details?id=com.twcsports.android&hl=en_US&gl=US', 'ios': 'https://apps.apple.com/us/app/spectrum-sportsnet-live-games/id563316826'}\n",
      "{'android': 'https://play.google.com/store/apps/details?id=com.speechcycle.smartcare.android.mediacom&hl=en_US&gl=US', 'ios': 'https://apps.apple.com/us/app/mediacomconnect/id527680234'}\n",
      "{'android': 'https://play.google.com/store/apps/details?id=com.nuance.nmc.sihome.metropcs&hl=en_US&gl=US', 'ios': 'https://apps.apple.com/us/app/mymetro/id1188830219'}\n",
      "{'android': 'https://play.google.com/store/apps/details?id=com.frontier.selfserve&hl=en_US&gl=US', 'ios': 'https://apps.apple.com/us/app/myfrontier/id978439794'}\n",
      "{'android': 'https://play.google.com/store/apps/details?id=com.xfinity.digitalhome&hl=en_US&gl=US', 'ios': 'https://apps.apple.com/us/app/xfinity/id1178765645'}\n",
      "{'android': 'https://play.google.com/store/apps/details?id=com.google.android.apps.fiber.myfiber&hl=en_US&gl=US', 'ios': 'https://apps.apple.com/us/app/google-fiber/id1063844759'}\n",
      "{'android': 'https://play.google.com/store/apps/details?id=com.viasat.cts.store.ViasatInternet&hl=en_US&gl=US', 'ios': 'https://apps.apple.com/us/app/my-viasat/id1341120640'}\n",
      "{'android': 'https://play.google.com/store/apps/details?id=agoc.mobile.account&hl=en_US&gl=US', 'ios': 'https://apps.apple.com/us/app/armstrong/id636522134'}\n",
      "{'android': 'https://play.google.com/store/apps/details?id=com.astound.mobile.rcn&hl=en_US&gl=US', 'ios': 'https://apps.apple.com/us/app/astound-mobile/id6449095899'}\n",
      "{'android': 'https://play.google.com/store/apps/details?id=com.hughesnet.HughesNetMobile&hl=en_US&gl=US', 'ios': 'https://apps.apple.com/us/app/hughesnet-mobile/id1097579916'}\n",
      "{'android': 'https://play.google.com/store/apps/details?id=com.hawaiiantel.myht&hl=en_US&gl=US', 'ios': 'https://apps.apple.com/us/app/ht-my-account/id1262963153'}\n",
      "{'android': 'https://play.google.com/store/apps/details?id=com.midco.consumerapp&hl=en_US&gl=US', 'ios': 'https://apps.apple.com/us/app/midco-my-account/id1090421908'}\n",
      "{'android': 'https://play.google.com/store/apps/details?id=com.optimum.lbsaopt&hl=en_US&gl=US', 'ios': 'https://apps.apple.com/us/app/optimum-support/id1234273194'}\n",
      "{'android': 'https://play.google.com/store/apps/details?id=com.uscc.myaccount&hl=en_US&gl=US', 'ios': 'https://apps.apple.com/us/app/uscellular-my-account/id1228669675'}\n",
      "{'android': 'https://play.google.com/store/apps/details?id=com.sectv.mysectv&hl=en_US&gl=US', 'ios': 'https://apps.apple.com/us/app/se-next-powered-by-tivo/id1414862251'}\n",
      "{'android': 'https://play.google.com/store/apps/details?id=com.alticeusa.alticeone.prod&hl=en_US&gl=US', 'ios': 'https://apps.apple.com/us/app/optimum-tv/id1296704509'}\n",
      "{'android': 'https://play.google.com/store/apps/details?id=com.tivo.android.abb&hl=en_US&gl=US', 'ios': 'https://apps.apple.com/us/app/breezeline-tv/id787428890'}\n",
      "{'android': 'https://play.google.com/store/apps/details?id=com.brctv.myblueridge&hl=en_US&gl=US', 'ios': 'https://apps.apple.com/us/app/my-blue-ridge/id1425929491'}\n",
      "{'android': 'https://play.google.com/store/apps/details?id=com.buckeyebroadband.mybuckeye&hl=en_US&gl=US', 'ios': 'https://apps.apple.com/us/app/mybuckeye/id1571340716'}\n",
      "{'android': 'https://play.google.com/store/apps/details?id=com.uvnv.mintsim&hl=en_US&gl=US', 'ios': 'https://apps.apple.com/us/app/mint-mobile/id1295303441'}\n"
     ]
    }
   ],
   "source": [
    "spectrumURLS = [appURLs[apps] for apps in appURLs]\n",
    "for g in spectrumURLS:\n",
    "    print(g)"
   ]
  },
  {
   "cell_type": "code",
   "execution_count": null,
   "metadata": {},
   "outputs": [],
   "source": []
  }
 ],
 "metadata": {
  "kernelspec": {
   "display_name": "venv",
   "language": "python",
   "name": "python3"
  },
  "language_info": {
   "codemirror_mode": {
    "name": "ipython",
    "version": 3
   },
   "file_extension": ".py",
   "mimetype": "text/x-python",
   "name": "python",
   "nbconvert_exporter": "python",
   "pygments_lexer": "ipython3",
   "version": "3.11.4"
  },
  "orig_nbformat": 4
 },
 "nbformat": 4,
 "nbformat_minor": 2
}
